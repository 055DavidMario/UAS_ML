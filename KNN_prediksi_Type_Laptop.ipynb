{
  "nbformat": 4,
  "nbformat_minor": 0,
  "metadata": {
    "colab": {
      "provenance": [],
      "authorship_tag": "ABX9TyO6mTxLpZ6TU2iQehspkLND",
      "include_colab_link": true
    },
    "kernelspec": {
      "name": "python3",
      "display_name": "Python 3"
    },
    "language_info": {
      "name": "python"
    }
  },
  "cells": [
    {
      "cell_type": "markdown",
      "metadata": {
        "id": "view-in-github",
        "colab_type": "text"
      },
      "source": [
        "<a href=\"https://colab.research.google.com/github/055DavidMario/055DavidMario/blob/main/KNN_prediksi_Type_Laptop.ipynb\" target=\"_parent\"><img src=\"https://colab.research.google.com/assets/colab-badge.svg\" alt=\"Open In Colab\"/></a>"
      ]
    },
    {
      "cell_type": "code",
      "execution_count": 3,
      "metadata": {
        "id": "AtumR7x5phyV"
      },
      "outputs": [],
      "source": [
        "import pandas as pd\n",
        "import seaborn as sns\n",
        "import matplotlib.pyplot as plt\n",
        "from sklearn.model_selection import train_test_split\n",
        "from sklearn.neighbors import KNeighborsClassifier\n",
        "from sklearn.metrics import classification_report, accuracy_score, confusion_matrix\n",
        "from sklearn.preprocessing import LabelEncoder\n",
        "from sklearn.model_selection import GridSearchCV"
      ]
    },
    {
      "cell_type": "code",
      "source": [
        "# Load the dataset from the CSV file\n",
        "df = pd.read_csv('laptop_data_cleaned.csv')\n",
        "df"
      ],
      "metadata": {
        "colab": {
          "base_uri": "https://localhost:8080/",
          "height": 475
        },
        "id": "s4FGH-wkt2UB",
        "outputId": "2c777ebb-87b5-436f-ebb4-be065625c239"
      },
      "execution_count": 4,
      "outputs": [
        {
          "output_type": "execute_result",
          "data": {
            "text/plain": [
              "     Company            TypeName  Ram  Weight      Price  TouchScreen  Ips  \\\n",
              "0      Apple           Ultrabook    8    1.37  11.175755            0    1   \n",
              "1      Apple           Ultrabook    8    1.34  10.776777            0    0   \n",
              "2         HP            Notebook    8    1.86  10.329931            0    0   \n",
              "3      Apple           Ultrabook   16    1.83  11.814476            0    1   \n",
              "4      Apple           Ultrabook    8    1.37  11.473101            0    1   \n",
              "...      ...                 ...  ...     ...        ...          ...  ...   \n",
              "1268    Asus            Notebook    4    2.20  10.555257            0    0   \n",
              "1269  Lenovo  2 in 1 Convertible    4    1.80  10.433899            1    1   \n",
              "1270  Lenovo  2 in 1 Convertible   16    1.30  11.288115            1    1   \n",
              "1271  Lenovo            Notebook    2    1.50   9.409283            0    0   \n",
              "1272      HP            Notebook    6    2.19  10.614129            0    0   \n",
              "\n",
              "             Ppi              Cpu_brand   HDD  SSD Gpu_brand       Os  \n",
              "0     226.983005          Intel Core i5     0  128     Intel      Mac  \n",
              "1     127.677940          Intel Core i5     0    0     Intel      Mac  \n",
              "2     141.211998          Intel Core i5     0  256     Intel   Others  \n",
              "3     220.534624          Intel Core i7     0  512       AMD      Mac  \n",
              "4     226.983005          Intel Core i5     0  256     Intel      Mac  \n",
              "...          ...                    ...   ...  ...       ...      ...  \n",
              "1268  100.454670          Intel Core i7   500    0    Nvidia  Windows  \n",
              "1269  157.350512          Intel Core i7     0  128     Intel  Windows  \n",
              "1270  276.053530          Intel Core i7     0  512     Intel  Windows  \n",
              "1271  111.935204  Other Intel Processor     0    0     Intel  Windows  \n",
              "1272  100.454670          Intel Core i7  1000    0       AMD  Windows  \n",
              "\n",
              "[1273 rows x 13 columns]"
            ],
            "text/html": [
              "\n",
              "  <div id=\"df-6c81c83e-6d5a-486a-b1bc-50a8467d7762\" class=\"colab-df-container\">\n",
              "    <div>\n",
              "<style scoped>\n",
              "    .dataframe tbody tr th:only-of-type {\n",
              "        vertical-align: middle;\n",
              "    }\n",
              "\n",
              "    .dataframe tbody tr th {\n",
              "        vertical-align: top;\n",
              "    }\n",
              "\n",
              "    .dataframe thead th {\n",
              "        text-align: right;\n",
              "    }\n",
              "</style>\n",
              "<table border=\"1\" class=\"dataframe\">\n",
              "  <thead>\n",
              "    <tr style=\"text-align: right;\">\n",
              "      <th></th>\n",
              "      <th>Company</th>\n",
              "      <th>TypeName</th>\n",
              "      <th>Ram</th>\n",
              "      <th>Weight</th>\n",
              "      <th>Price</th>\n",
              "      <th>TouchScreen</th>\n",
              "      <th>Ips</th>\n",
              "      <th>Ppi</th>\n",
              "      <th>Cpu_brand</th>\n",
              "      <th>HDD</th>\n",
              "      <th>SSD</th>\n",
              "      <th>Gpu_brand</th>\n",
              "      <th>Os</th>\n",
              "    </tr>\n",
              "  </thead>\n",
              "  <tbody>\n",
              "    <tr>\n",
              "      <th>0</th>\n",
              "      <td>Apple</td>\n",
              "      <td>Ultrabook</td>\n",
              "      <td>8</td>\n",
              "      <td>1.37</td>\n",
              "      <td>11.175755</td>\n",
              "      <td>0</td>\n",
              "      <td>1</td>\n",
              "      <td>226.983005</td>\n",
              "      <td>Intel Core i5</td>\n",
              "      <td>0</td>\n",
              "      <td>128</td>\n",
              "      <td>Intel</td>\n",
              "      <td>Mac</td>\n",
              "    </tr>\n",
              "    <tr>\n",
              "      <th>1</th>\n",
              "      <td>Apple</td>\n",
              "      <td>Ultrabook</td>\n",
              "      <td>8</td>\n",
              "      <td>1.34</td>\n",
              "      <td>10.776777</td>\n",
              "      <td>0</td>\n",
              "      <td>0</td>\n",
              "      <td>127.677940</td>\n",
              "      <td>Intel Core i5</td>\n",
              "      <td>0</td>\n",
              "      <td>0</td>\n",
              "      <td>Intel</td>\n",
              "      <td>Mac</td>\n",
              "    </tr>\n",
              "    <tr>\n",
              "      <th>2</th>\n",
              "      <td>HP</td>\n",
              "      <td>Notebook</td>\n",
              "      <td>8</td>\n",
              "      <td>1.86</td>\n",
              "      <td>10.329931</td>\n",
              "      <td>0</td>\n",
              "      <td>0</td>\n",
              "      <td>141.211998</td>\n",
              "      <td>Intel Core i5</td>\n",
              "      <td>0</td>\n",
              "      <td>256</td>\n",
              "      <td>Intel</td>\n",
              "      <td>Others</td>\n",
              "    </tr>\n",
              "    <tr>\n",
              "      <th>3</th>\n",
              "      <td>Apple</td>\n",
              "      <td>Ultrabook</td>\n",
              "      <td>16</td>\n",
              "      <td>1.83</td>\n",
              "      <td>11.814476</td>\n",
              "      <td>0</td>\n",
              "      <td>1</td>\n",
              "      <td>220.534624</td>\n",
              "      <td>Intel Core i7</td>\n",
              "      <td>0</td>\n",
              "      <td>512</td>\n",
              "      <td>AMD</td>\n",
              "      <td>Mac</td>\n",
              "    </tr>\n",
              "    <tr>\n",
              "      <th>4</th>\n",
              "      <td>Apple</td>\n",
              "      <td>Ultrabook</td>\n",
              "      <td>8</td>\n",
              "      <td>1.37</td>\n",
              "      <td>11.473101</td>\n",
              "      <td>0</td>\n",
              "      <td>1</td>\n",
              "      <td>226.983005</td>\n",
              "      <td>Intel Core i5</td>\n",
              "      <td>0</td>\n",
              "      <td>256</td>\n",
              "      <td>Intel</td>\n",
              "      <td>Mac</td>\n",
              "    </tr>\n",
              "    <tr>\n",
              "      <th>...</th>\n",
              "      <td>...</td>\n",
              "      <td>...</td>\n",
              "      <td>...</td>\n",
              "      <td>...</td>\n",
              "      <td>...</td>\n",
              "      <td>...</td>\n",
              "      <td>...</td>\n",
              "      <td>...</td>\n",
              "      <td>...</td>\n",
              "      <td>...</td>\n",
              "      <td>...</td>\n",
              "      <td>...</td>\n",
              "      <td>...</td>\n",
              "    </tr>\n",
              "    <tr>\n",
              "      <th>1268</th>\n",
              "      <td>Asus</td>\n",
              "      <td>Notebook</td>\n",
              "      <td>4</td>\n",
              "      <td>2.20</td>\n",
              "      <td>10.555257</td>\n",
              "      <td>0</td>\n",
              "      <td>0</td>\n",
              "      <td>100.454670</td>\n",
              "      <td>Intel Core i7</td>\n",
              "      <td>500</td>\n",
              "      <td>0</td>\n",
              "      <td>Nvidia</td>\n",
              "      <td>Windows</td>\n",
              "    </tr>\n",
              "    <tr>\n",
              "      <th>1269</th>\n",
              "      <td>Lenovo</td>\n",
              "      <td>2 in 1 Convertible</td>\n",
              "      <td>4</td>\n",
              "      <td>1.80</td>\n",
              "      <td>10.433899</td>\n",
              "      <td>1</td>\n",
              "      <td>1</td>\n",
              "      <td>157.350512</td>\n",
              "      <td>Intel Core i7</td>\n",
              "      <td>0</td>\n",
              "      <td>128</td>\n",
              "      <td>Intel</td>\n",
              "      <td>Windows</td>\n",
              "    </tr>\n",
              "    <tr>\n",
              "      <th>1270</th>\n",
              "      <td>Lenovo</td>\n",
              "      <td>2 in 1 Convertible</td>\n",
              "      <td>16</td>\n",
              "      <td>1.30</td>\n",
              "      <td>11.288115</td>\n",
              "      <td>1</td>\n",
              "      <td>1</td>\n",
              "      <td>276.053530</td>\n",
              "      <td>Intel Core i7</td>\n",
              "      <td>0</td>\n",
              "      <td>512</td>\n",
              "      <td>Intel</td>\n",
              "      <td>Windows</td>\n",
              "    </tr>\n",
              "    <tr>\n",
              "      <th>1271</th>\n",
              "      <td>Lenovo</td>\n",
              "      <td>Notebook</td>\n",
              "      <td>2</td>\n",
              "      <td>1.50</td>\n",
              "      <td>9.409283</td>\n",
              "      <td>0</td>\n",
              "      <td>0</td>\n",
              "      <td>111.935204</td>\n",
              "      <td>Other Intel Processor</td>\n",
              "      <td>0</td>\n",
              "      <td>0</td>\n",
              "      <td>Intel</td>\n",
              "      <td>Windows</td>\n",
              "    </tr>\n",
              "    <tr>\n",
              "      <th>1272</th>\n",
              "      <td>HP</td>\n",
              "      <td>Notebook</td>\n",
              "      <td>6</td>\n",
              "      <td>2.19</td>\n",
              "      <td>10.614129</td>\n",
              "      <td>0</td>\n",
              "      <td>0</td>\n",
              "      <td>100.454670</td>\n",
              "      <td>Intel Core i7</td>\n",
              "      <td>1000</td>\n",
              "      <td>0</td>\n",
              "      <td>AMD</td>\n",
              "      <td>Windows</td>\n",
              "    </tr>\n",
              "  </tbody>\n",
              "</table>\n",
              "<p>1273 rows × 13 columns</p>\n",
              "</div>\n",
              "    <div class=\"colab-df-buttons\">\n",
              "\n",
              "  <div class=\"colab-df-container\">\n",
              "    <button class=\"colab-df-convert\" onclick=\"convertToInteractive('df-6c81c83e-6d5a-486a-b1bc-50a8467d7762')\"\n",
              "            title=\"Convert this dataframe to an interactive table.\"\n",
              "            style=\"display:none;\">\n",
              "\n",
              "  <svg xmlns=\"http://www.w3.org/2000/svg\" height=\"24px\" viewBox=\"0 -960 960 960\">\n",
              "    <path d=\"M120-120v-720h720v720H120Zm60-500h600v-160H180v160Zm220 220h160v-160H400v160Zm0 220h160v-160H400v160ZM180-400h160v-160H180v160Zm440 0h160v-160H620v160ZM180-180h160v-160H180v160Zm440 0h160v-160H620v160Z\"/>\n",
              "  </svg>\n",
              "    </button>\n",
              "\n",
              "  <style>\n",
              "    .colab-df-container {\n",
              "      display:flex;\n",
              "      gap: 12px;\n",
              "    }\n",
              "\n",
              "    .colab-df-convert {\n",
              "      background-color: #E8F0FE;\n",
              "      border: none;\n",
              "      border-radius: 50%;\n",
              "      cursor: pointer;\n",
              "      display: none;\n",
              "      fill: #1967D2;\n",
              "      height: 32px;\n",
              "      padding: 0 0 0 0;\n",
              "      width: 32px;\n",
              "    }\n",
              "\n",
              "    .colab-df-convert:hover {\n",
              "      background-color: #E2EBFA;\n",
              "      box-shadow: 0px 1px 2px rgba(60, 64, 67, 0.3), 0px 1px 3px 1px rgba(60, 64, 67, 0.15);\n",
              "      fill: #174EA6;\n",
              "    }\n",
              "\n",
              "    .colab-df-buttons div {\n",
              "      margin-bottom: 4px;\n",
              "    }\n",
              "\n",
              "    [theme=dark] .colab-df-convert {\n",
              "      background-color: #3B4455;\n",
              "      fill: #D2E3FC;\n",
              "    }\n",
              "\n",
              "    [theme=dark] .colab-df-convert:hover {\n",
              "      background-color: #434B5C;\n",
              "      box-shadow: 0px 1px 3px 1px rgba(0, 0, 0, 0.15);\n",
              "      filter: drop-shadow(0px 1px 2px rgba(0, 0, 0, 0.3));\n",
              "      fill: #FFFFFF;\n",
              "    }\n",
              "  </style>\n",
              "\n",
              "    <script>\n",
              "      const buttonEl =\n",
              "        document.querySelector('#df-6c81c83e-6d5a-486a-b1bc-50a8467d7762 button.colab-df-convert');\n",
              "      buttonEl.style.display =\n",
              "        google.colab.kernel.accessAllowed ? 'block' : 'none';\n",
              "\n",
              "      async function convertToInteractive(key) {\n",
              "        const element = document.querySelector('#df-6c81c83e-6d5a-486a-b1bc-50a8467d7762');\n",
              "        const dataTable =\n",
              "          await google.colab.kernel.invokeFunction('convertToInteractive',\n",
              "                                                    [key], {});\n",
              "        if (!dataTable) return;\n",
              "\n",
              "        const docLinkHtml = 'Like what you see? Visit the ' +\n",
              "          '<a target=\"_blank\" href=https://colab.research.google.com/notebooks/data_table.ipynb>data table notebook</a>'\n",
              "          + ' to learn more about interactive tables.';\n",
              "        element.innerHTML = '';\n",
              "        dataTable['output_type'] = 'display_data';\n",
              "        await google.colab.output.renderOutput(dataTable, element);\n",
              "        const docLink = document.createElement('div');\n",
              "        docLink.innerHTML = docLinkHtml;\n",
              "        element.appendChild(docLink);\n",
              "      }\n",
              "    </script>\n",
              "  </div>\n",
              "\n",
              "\n",
              "<div id=\"df-b5b8ad43-03f0-4a31-bbe2-f26692281ab5\">\n",
              "  <button class=\"colab-df-quickchart\" onclick=\"quickchart('df-b5b8ad43-03f0-4a31-bbe2-f26692281ab5')\"\n",
              "            title=\"Suggest charts\"\n",
              "            style=\"display:none;\">\n",
              "\n",
              "<svg xmlns=\"http://www.w3.org/2000/svg\" height=\"24px\"viewBox=\"0 0 24 24\"\n",
              "     width=\"24px\">\n",
              "    <g>\n",
              "        <path d=\"M19 3H5c-1.1 0-2 .9-2 2v14c0 1.1.9 2 2 2h14c1.1 0 2-.9 2-2V5c0-1.1-.9-2-2-2zM9 17H7v-7h2v7zm4 0h-2V7h2v10zm4 0h-2v-4h2v4z\"/>\n",
              "    </g>\n",
              "</svg>\n",
              "  </button>\n",
              "\n",
              "<style>\n",
              "  .colab-df-quickchart {\n",
              "      --bg-color: #E8F0FE;\n",
              "      --fill-color: #1967D2;\n",
              "      --hover-bg-color: #E2EBFA;\n",
              "      --hover-fill-color: #174EA6;\n",
              "      --disabled-fill-color: #AAA;\n",
              "      --disabled-bg-color: #DDD;\n",
              "  }\n",
              "\n",
              "  [theme=dark] .colab-df-quickchart {\n",
              "      --bg-color: #3B4455;\n",
              "      --fill-color: #D2E3FC;\n",
              "      --hover-bg-color: #434B5C;\n",
              "      --hover-fill-color: #FFFFFF;\n",
              "      --disabled-bg-color: #3B4455;\n",
              "      --disabled-fill-color: #666;\n",
              "  }\n",
              "\n",
              "  .colab-df-quickchart {\n",
              "    background-color: var(--bg-color);\n",
              "    border: none;\n",
              "    border-radius: 50%;\n",
              "    cursor: pointer;\n",
              "    display: none;\n",
              "    fill: var(--fill-color);\n",
              "    height: 32px;\n",
              "    padding: 0;\n",
              "    width: 32px;\n",
              "  }\n",
              "\n",
              "  .colab-df-quickchart:hover {\n",
              "    background-color: var(--hover-bg-color);\n",
              "    box-shadow: 0 1px 2px rgba(60, 64, 67, 0.3), 0 1px 3px 1px rgba(60, 64, 67, 0.15);\n",
              "    fill: var(--button-hover-fill-color);\n",
              "  }\n",
              "\n",
              "  .colab-df-quickchart-complete:disabled,\n",
              "  .colab-df-quickchart-complete:disabled:hover {\n",
              "    background-color: var(--disabled-bg-color);\n",
              "    fill: var(--disabled-fill-color);\n",
              "    box-shadow: none;\n",
              "  }\n",
              "\n",
              "  .colab-df-spinner {\n",
              "    border: 2px solid var(--fill-color);\n",
              "    border-color: transparent;\n",
              "    border-bottom-color: var(--fill-color);\n",
              "    animation:\n",
              "      spin 1s steps(1) infinite;\n",
              "  }\n",
              "\n",
              "  @keyframes spin {\n",
              "    0% {\n",
              "      border-color: transparent;\n",
              "      border-bottom-color: var(--fill-color);\n",
              "      border-left-color: var(--fill-color);\n",
              "    }\n",
              "    20% {\n",
              "      border-color: transparent;\n",
              "      border-left-color: var(--fill-color);\n",
              "      border-top-color: var(--fill-color);\n",
              "    }\n",
              "    30% {\n",
              "      border-color: transparent;\n",
              "      border-left-color: var(--fill-color);\n",
              "      border-top-color: var(--fill-color);\n",
              "      border-right-color: var(--fill-color);\n",
              "    }\n",
              "    40% {\n",
              "      border-color: transparent;\n",
              "      border-right-color: var(--fill-color);\n",
              "      border-top-color: var(--fill-color);\n",
              "    }\n",
              "    60% {\n",
              "      border-color: transparent;\n",
              "      border-right-color: var(--fill-color);\n",
              "    }\n",
              "    80% {\n",
              "      border-color: transparent;\n",
              "      border-right-color: var(--fill-color);\n",
              "      border-bottom-color: var(--fill-color);\n",
              "    }\n",
              "    90% {\n",
              "      border-color: transparent;\n",
              "      border-bottom-color: var(--fill-color);\n",
              "    }\n",
              "  }\n",
              "</style>\n",
              "\n",
              "  <script>\n",
              "    async function quickchart(key) {\n",
              "      const quickchartButtonEl =\n",
              "        document.querySelector('#' + key + ' button');\n",
              "      quickchartButtonEl.disabled = true;  // To prevent multiple clicks.\n",
              "      quickchartButtonEl.classList.add('colab-df-spinner');\n",
              "      try {\n",
              "        const charts = await google.colab.kernel.invokeFunction(\n",
              "            'suggestCharts', [key], {});\n",
              "      } catch (error) {\n",
              "        console.error('Error during call to suggestCharts:', error);\n",
              "      }\n",
              "      quickchartButtonEl.classList.remove('colab-df-spinner');\n",
              "      quickchartButtonEl.classList.add('colab-df-quickchart-complete');\n",
              "    }\n",
              "    (() => {\n",
              "      let quickchartButtonEl =\n",
              "        document.querySelector('#df-b5b8ad43-03f0-4a31-bbe2-f26692281ab5 button');\n",
              "      quickchartButtonEl.style.display =\n",
              "        google.colab.kernel.accessAllowed ? 'block' : 'none';\n",
              "    })();\n",
              "  </script>\n",
              "</div>\n",
              "    </div>\n",
              "  </div>\n"
            ]
          },
          "metadata": {},
          "execution_count": 4
        }
      ]
    },
    {
      "cell_type": "code",
      "source": [
        "# Create a new column for the encoded 'Cpu_brand'\n",
        "col_encoder = LabelEncoder()\n",
        "df['Company_label'] = col_encoder.fit_transform(df['Company']) #change into numerik data\n",
        "df['Cpu'] = col_encoder.fit_transform(df['Cpu_brand']) #change into numerik data\n",
        "df['TypeName_label'] = col_encoder.fit_transform(df['TypeName']) #change into numerik data\n",
        "df['Os_label'] = col_encoder.fit_transform(df['Os']) #change into numerik data\n",
        "\n",
        "# AMD Processor = 0\n",
        "# Intel Core i3 = 1\n",
        "# Intel Core i5 = 2\n",
        "# Intel Core i7 = 3\n",
        "# Other Intel Processor = 4\n",
        "\n",
        "# Display the DataFrame with the new encoded column\n",
        "# print(df)\n",
        "\n",
        "# Menampilkan hasil label encode dari masing-masing kolom\n",
        "# Menampilkan hasil label encode yang terurut berdasarkan numeriknya\n",
        "sorted_company_labels = sorted(zip(df['Company'], df['Company_label']), key=lambda x: x[1])\n",
        "print(\"Company_label encoding:\")\n",
        "print(dict(sorted_company_labels))\n",
        "\n",
        "sorted_cpu_labels = sorted(zip(df['Cpu_brand'], df['Cpu']), key=lambda x: x[1])\n",
        "print(\"\\nCpu encoding:\")\n",
        "print(dict(sorted_cpu_labels))\n",
        "\n",
        "sorted_type_labels = sorted(zip(df['TypeName'], df['TypeName_label']), key=lambda x: x[1])\n",
        "print(\"\\nTypeName_label encoding:\")\n",
        "print(dict(sorted_type_labels))\n",
        "\n",
        "sorted_os_labels = sorted(zip(df['Os'], df['Os_label']), key=lambda x: x[1])\n",
        "print(\"\\nOs_label encoding:\")\n",
        "print(dict(sorted_os_labels))"
      ],
      "metadata": {
        "colab": {
          "base_uri": "https://localhost:8080/"
        },
        "id": "1QcQt2wd9sZj",
        "outputId": "4b29c573-2100-4caa-a0e9-ab09cddc73c6"
      },
      "execution_count": 5,
      "outputs": [
        {
          "output_type": "stream",
          "name": "stdout",
          "text": [
            "Company_label encoding:\n",
            "{'Acer': 0, 'Apple': 1, 'Asus': 2, 'Chuwi': 3, 'Dell': 4, 'Fujitsu': 5, 'Google': 6, 'HP': 7, 'Huawei': 8, 'LG': 9, 'Lenovo': 10, 'MSI': 11, 'Mediacom': 12, 'Microsoft': 13, 'Razer': 14, 'Samsung': 15, 'Toshiba': 16, 'Vero': 17, 'Xiaomi': 18}\n",
            "\n",
            "Cpu encoding:\n",
            "{'AMD Processor': 0, 'Intel Core i3': 1, 'Intel Core i5': 2, 'Intel Core i7': 3, 'Other Intel Processor': 4}\n",
            "\n",
            "TypeName_label encoding:\n",
            "{'2 in 1 Convertible': 0, 'Gaming': 1, 'Netbook': 2, 'Notebook': 3, 'Ultrabook': 4, 'Workstation': 5}\n",
            "\n",
            "Os_label encoding:\n",
            "{'Mac': 0, 'Others': 1, 'Windows': 2}\n"
          ]
        }
      ]
    },
    {
      "cell_type": "code",
      "source": [
        "print(df)"
      ],
      "metadata": {
        "colab": {
          "base_uri": "https://localhost:8080/"
        },
        "id": "vigNaatT_pmn",
        "outputId": "b24fd3a9-ef75-4b9f-e10c-2a9127d74f4d"
      },
      "execution_count": 6,
      "outputs": [
        {
          "output_type": "stream",
          "name": "stdout",
          "text": [
            "     Company            TypeName  Ram  Weight      Price  TouchScreen  Ips  \\\n",
            "0      Apple           Ultrabook    8    1.37  11.175755            0    1   \n",
            "1      Apple           Ultrabook    8    1.34  10.776777            0    0   \n",
            "2         HP            Notebook    8    1.86  10.329931            0    0   \n",
            "3      Apple           Ultrabook   16    1.83  11.814476            0    1   \n",
            "4      Apple           Ultrabook    8    1.37  11.473101            0    1   \n",
            "...      ...                 ...  ...     ...        ...          ...  ...   \n",
            "1268    Asus            Notebook    4    2.20  10.555257            0    0   \n",
            "1269  Lenovo  2 in 1 Convertible    4    1.80  10.433899            1    1   \n",
            "1270  Lenovo  2 in 1 Convertible   16    1.30  11.288115            1    1   \n",
            "1271  Lenovo            Notebook    2    1.50   9.409283            0    0   \n",
            "1272      HP            Notebook    6    2.19  10.614129            0    0   \n",
            "\n",
            "             Ppi              Cpu_brand   HDD  SSD Gpu_brand       Os  \\\n",
            "0     226.983005          Intel Core i5     0  128     Intel      Mac   \n",
            "1     127.677940          Intel Core i5     0    0     Intel      Mac   \n",
            "2     141.211998          Intel Core i5     0  256     Intel   Others   \n",
            "3     220.534624          Intel Core i7     0  512       AMD      Mac   \n",
            "4     226.983005          Intel Core i5     0  256     Intel      Mac   \n",
            "...          ...                    ...   ...  ...       ...      ...   \n",
            "1268  100.454670          Intel Core i7   500    0    Nvidia  Windows   \n",
            "1269  157.350512          Intel Core i7     0  128     Intel  Windows   \n",
            "1270  276.053530          Intel Core i7     0  512     Intel  Windows   \n",
            "1271  111.935204  Other Intel Processor     0    0     Intel  Windows   \n",
            "1272  100.454670          Intel Core i7  1000    0       AMD  Windows   \n",
            "\n",
            "      Company_label  Cpu  TypeName_label  Os_label  \n",
            "0                 1    2               4         0  \n",
            "1                 1    2               4         0  \n",
            "2                 7    2               3         1  \n",
            "3                 1    3               4         0  \n",
            "4                 1    2               4         0  \n",
            "...             ...  ...             ...       ...  \n",
            "1268              2    3               3         2  \n",
            "1269             10    3               0         2  \n",
            "1270             10    3               0         2  \n",
            "1271             10    4               3         2  \n",
            "1272              7    3               3         2  \n",
            "\n",
            "[1273 rows x 17 columns]\n"
          ]
        }
      ]
    },
    {
      "cell_type": "code",
      "source": [
        "# Select relevant features and target variable\n",
        "features = ['Ram', 'HDD', 'SSD', 'Company_label', 'Cpu', 'Os_label']\n",
        "target = 'TypeName'\n",
        "\n",
        "# Extract features and target variable\n",
        "x = df[features]\n",
        "y = df[target]"
      ],
      "metadata": {
        "id": "xWYLwG4QtljG"
      },
      "execution_count": 7,
      "outputs": []
    },
    {
      "cell_type": "code",
      "source": [
        "# Perform GridSearchCV for hyperparameter tuning (Find the best param)\n",
        "\n",
        "param_grid = {'n_neighbors': [1, 3, 5, 7, 9, 11], 'weights': ['uniform', 'distance']}\n",
        "knn = KNeighborsClassifier()\n",
        "grid_search = GridSearchCV(knn, param_grid, cv=5)\n",
        "grid_search.fit(x, y)"
      ],
      "metadata": {
        "colab": {
          "base_uri": "https://localhost:8080/",
          "height": 116
        },
        "id": "xq74Fg7EuK6D",
        "outputId": "06c797d6-4437-49a1-92c6-4c0ca1525ea6"
      },
      "execution_count": 8,
      "outputs": [
        {
          "output_type": "execute_result",
          "data": {
            "text/plain": [
              "GridSearchCV(cv=5, estimator=KNeighborsClassifier(),\n",
              "             param_grid={'n_neighbors': [1, 3, 5, 7, 9, 11],\n",
              "                         'weights': ['uniform', 'distance']})"
            ],
            "text/html": [
              "<style>#sk-container-id-1 {color: black;background-color: white;}#sk-container-id-1 pre{padding: 0;}#sk-container-id-1 div.sk-toggleable {background-color: white;}#sk-container-id-1 label.sk-toggleable__label {cursor: pointer;display: block;width: 100%;margin-bottom: 0;padding: 0.3em;box-sizing: border-box;text-align: center;}#sk-container-id-1 label.sk-toggleable__label-arrow:before {content: \"▸\";float: left;margin-right: 0.25em;color: #696969;}#sk-container-id-1 label.sk-toggleable__label-arrow:hover:before {color: black;}#sk-container-id-1 div.sk-estimator:hover label.sk-toggleable__label-arrow:before {color: black;}#sk-container-id-1 div.sk-toggleable__content {max-height: 0;max-width: 0;overflow: hidden;text-align: left;background-color: #f0f8ff;}#sk-container-id-1 div.sk-toggleable__content pre {margin: 0.2em;color: black;border-radius: 0.25em;background-color: #f0f8ff;}#sk-container-id-1 input.sk-toggleable__control:checked~div.sk-toggleable__content {max-height: 200px;max-width: 100%;overflow: auto;}#sk-container-id-1 input.sk-toggleable__control:checked~label.sk-toggleable__label-arrow:before {content: \"▾\";}#sk-container-id-1 div.sk-estimator input.sk-toggleable__control:checked~label.sk-toggleable__label {background-color: #d4ebff;}#sk-container-id-1 div.sk-label input.sk-toggleable__control:checked~label.sk-toggleable__label {background-color: #d4ebff;}#sk-container-id-1 input.sk-hidden--visually {border: 0;clip: rect(1px 1px 1px 1px);clip: rect(1px, 1px, 1px, 1px);height: 1px;margin: -1px;overflow: hidden;padding: 0;position: absolute;width: 1px;}#sk-container-id-1 div.sk-estimator {font-family: monospace;background-color: #f0f8ff;border: 1px dotted black;border-radius: 0.25em;box-sizing: border-box;margin-bottom: 0.5em;}#sk-container-id-1 div.sk-estimator:hover {background-color: #d4ebff;}#sk-container-id-1 div.sk-parallel-item::after {content: \"\";width: 100%;border-bottom: 1px solid gray;flex-grow: 1;}#sk-container-id-1 div.sk-label:hover label.sk-toggleable__label {background-color: #d4ebff;}#sk-container-id-1 div.sk-serial::before {content: \"\";position: absolute;border-left: 1px solid gray;box-sizing: border-box;top: 0;bottom: 0;left: 50%;z-index: 0;}#sk-container-id-1 div.sk-serial {display: flex;flex-direction: column;align-items: center;background-color: white;padding-right: 0.2em;padding-left: 0.2em;position: relative;}#sk-container-id-1 div.sk-item {position: relative;z-index: 1;}#sk-container-id-1 div.sk-parallel {display: flex;align-items: stretch;justify-content: center;background-color: white;position: relative;}#sk-container-id-1 div.sk-item::before, #sk-container-id-1 div.sk-parallel-item::before {content: \"\";position: absolute;border-left: 1px solid gray;box-sizing: border-box;top: 0;bottom: 0;left: 50%;z-index: -1;}#sk-container-id-1 div.sk-parallel-item {display: flex;flex-direction: column;z-index: 1;position: relative;background-color: white;}#sk-container-id-1 div.sk-parallel-item:first-child::after {align-self: flex-end;width: 50%;}#sk-container-id-1 div.sk-parallel-item:last-child::after {align-self: flex-start;width: 50%;}#sk-container-id-1 div.sk-parallel-item:only-child::after {width: 0;}#sk-container-id-1 div.sk-dashed-wrapped {border: 1px dashed gray;margin: 0 0.4em 0.5em 0.4em;box-sizing: border-box;padding-bottom: 0.4em;background-color: white;}#sk-container-id-1 div.sk-label label {font-family: monospace;font-weight: bold;display: inline-block;line-height: 1.2em;}#sk-container-id-1 div.sk-label-container {text-align: center;}#sk-container-id-1 div.sk-container {/* jupyter's `normalize.less` sets `[hidden] { display: none; }` but bootstrap.min.css set `[hidden] { display: none !important; }` so we also need the `!important` here to be able to override the default hidden behavior on the sphinx rendered scikit-learn.org. See: https://github.com/scikit-learn/scikit-learn/issues/21755 */display: inline-block !important;position: relative;}#sk-container-id-1 div.sk-text-repr-fallback {display: none;}</style><div id=\"sk-container-id-1\" class=\"sk-top-container\"><div class=\"sk-text-repr-fallback\"><pre>GridSearchCV(cv=5, estimator=KNeighborsClassifier(),\n",
              "             param_grid={&#x27;n_neighbors&#x27;: [1, 3, 5, 7, 9, 11],\n",
              "                         &#x27;weights&#x27;: [&#x27;uniform&#x27;, &#x27;distance&#x27;]})</pre><b>In a Jupyter environment, please rerun this cell to show the HTML representation or trust the notebook. <br />On GitHub, the HTML representation is unable to render, please try loading this page with nbviewer.org.</b></div><div class=\"sk-container\" hidden><div class=\"sk-item sk-dashed-wrapped\"><div class=\"sk-label-container\"><div class=\"sk-label sk-toggleable\"><input class=\"sk-toggleable__control sk-hidden--visually\" id=\"sk-estimator-id-1\" type=\"checkbox\" ><label for=\"sk-estimator-id-1\" class=\"sk-toggleable__label sk-toggleable__label-arrow\">GridSearchCV</label><div class=\"sk-toggleable__content\"><pre>GridSearchCV(cv=5, estimator=KNeighborsClassifier(),\n",
              "             param_grid={&#x27;n_neighbors&#x27;: [1, 3, 5, 7, 9, 11],\n",
              "                         &#x27;weights&#x27;: [&#x27;uniform&#x27;, &#x27;distance&#x27;]})</pre></div></div></div><div class=\"sk-parallel\"><div class=\"sk-parallel-item\"><div class=\"sk-item\"><div class=\"sk-label-container\"><div class=\"sk-label sk-toggleable\"><input class=\"sk-toggleable__control sk-hidden--visually\" id=\"sk-estimator-id-2\" type=\"checkbox\" ><label for=\"sk-estimator-id-2\" class=\"sk-toggleable__label sk-toggleable__label-arrow\">estimator: KNeighborsClassifier</label><div class=\"sk-toggleable__content\"><pre>KNeighborsClassifier()</pre></div></div></div><div class=\"sk-serial\"><div class=\"sk-item\"><div class=\"sk-estimator sk-toggleable\"><input class=\"sk-toggleable__control sk-hidden--visually\" id=\"sk-estimator-id-3\" type=\"checkbox\" ><label for=\"sk-estimator-id-3\" class=\"sk-toggleable__label sk-toggleable__label-arrow\">KNeighborsClassifier</label><div class=\"sk-toggleable__content\"><pre>KNeighborsClassifier()</pre></div></div></div></div></div></div></div></div></div></div>"
            ]
          },
          "metadata": {},
          "execution_count": 8
        }
      ]
    },
    {
      "cell_type": "code",
      "source": [
        "# Get the best hyperparameters\n",
        "best_params = grid_search.best_params_\n",
        "best_params"
      ],
      "metadata": {
        "colab": {
          "base_uri": "https://localhost:8080/"
        },
        "id": "H1J4CkEE0UmI",
        "outputId": "5ea208bc-77f9-439d-d36c-8d6ffbd61cc9"
      },
      "execution_count": 9,
      "outputs": [
        {
          "output_type": "execute_result",
          "data": {
            "text/plain": [
              "{'n_neighbors': 11, 'weights': 'uniform'}"
            ]
          },
          "metadata": {},
          "execution_count": 9
        }
      ]
    },
    {
      "cell_type": "code",
      "source": [
        "# Split the data into training and testing sets\n",
        "x_train, x_test, y_train, y_test = train_test_split(x, y, test_size=0.2, random_state=42)"
      ],
      "metadata": {
        "id": "TzIffQWT0xVO"
      },
      "execution_count": 10,
      "outputs": []
    },
    {
      "cell_type": "code",
      "source": [
        "# Create a new KNN model with the best parameters and train it\n",
        "knn_model = KNeighborsClassifier(**best_params)"
      ],
      "metadata": {
        "id": "Bx_SJeSq0cSR"
      },
      "execution_count": 11,
      "outputs": []
    },
    {
      "cell_type": "code",
      "source": [
        "knn_model.fit(x_train, y_train)"
      ],
      "metadata": {
        "colab": {
          "base_uri": "https://localhost:8080/",
          "height": 74
        },
        "id": "__FRr_r91WSI",
        "outputId": "e481c4d9-a556-4f9b-abff-83c79e39bed3"
      },
      "execution_count": 12,
      "outputs": [
        {
          "output_type": "execute_result",
          "data": {
            "text/plain": [
              "KNeighborsClassifier(n_neighbors=11)"
            ],
            "text/html": [
              "<style>#sk-container-id-2 {color: black;background-color: white;}#sk-container-id-2 pre{padding: 0;}#sk-container-id-2 div.sk-toggleable {background-color: white;}#sk-container-id-2 label.sk-toggleable__label {cursor: pointer;display: block;width: 100%;margin-bottom: 0;padding: 0.3em;box-sizing: border-box;text-align: center;}#sk-container-id-2 label.sk-toggleable__label-arrow:before {content: \"▸\";float: left;margin-right: 0.25em;color: #696969;}#sk-container-id-2 label.sk-toggleable__label-arrow:hover:before {color: black;}#sk-container-id-2 div.sk-estimator:hover label.sk-toggleable__label-arrow:before {color: black;}#sk-container-id-2 div.sk-toggleable__content {max-height: 0;max-width: 0;overflow: hidden;text-align: left;background-color: #f0f8ff;}#sk-container-id-2 div.sk-toggleable__content pre {margin: 0.2em;color: black;border-radius: 0.25em;background-color: #f0f8ff;}#sk-container-id-2 input.sk-toggleable__control:checked~div.sk-toggleable__content {max-height: 200px;max-width: 100%;overflow: auto;}#sk-container-id-2 input.sk-toggleable__control:checked~label.sk-toggleable__label-arrow:before {content: \"▾\";}#sk-container-id-2 div.sk-estimator input.sk-toggleable__control:checked~label.sk-toggleable__label {background-color: #d4ebff;}#sk-container-id-2 div.sk-label input.sk-toggleable__control:checked~label.sk-toggleable__label {background-color: #d4ebff;}#sk-container-id-2 input.sk-hidden--visually {border: 0;clip: rect(1px 1px 1px 1px);clip: rect(1px, 1px, 1px, 1px);height: 1px;margin: -1px;overflow: hidden;padding: 0;position: absolute;width: 1px;}#sk-container-id-2 div.sk-estimator {font-family: monospace;background-color: #f0f8ff;border: 1px dotted black;border-radius: 0.25em;box-sizing: border-box;margin-bottom: 0.5em;}#sk-container-id-2 div.sk-estimator:hover {background-color: #d4ebff;}#sk-container-id-2 div.sk-parallel-item::after {content: \"\";width: 100%;border-bottom: 1px solid gray;flex-grow: 1;}#sk-container-id-2 div.sk-label:hover label.sk-toggleable__label {background-color: #d4ebff;}#sk-container-id-2 div.sk-serial::before {content: \"\";position: absolute;border-left: 1px solid gray;box-sizing: border-box;top: 0;bottom: 0;left: 50%;z-index: 0;}#sk-container-id-2 div.sk-serial {display: flex;flex-direction: column;align-items: center;background-color: white;padding-right: 0.2em;padding-left: 0.2em;position: relative;}#sk-container-id-2 div.sk-item {position: relative;z-index: 1;}#sk-container-id-2 div.sk-parallel {display: flex;align-items: stretch;justify-content: center;background-color: white;position: relative;}#sk-container-id-2 div.sk-item::before, #sk-container-id-2 div.sk-parallel-item::before {content: \"\";position: absolute;border-left: 1px solid gray;box-sizing: border-box;top: 0;bottom: 0;left: 50%;z-index: -1;}#sk-container-id-2 div.sk-parallel-item {display: flex;flex-direction: column;z-index: 1;position: relative;background-color: white;}#sk-container-id-2 div.sk-parallel-item:first-child::after {align-self: flex-end;width: 50%;}#sk-container-id-2 div.sk-parallel-item:last-child::after {align-self: flex-start;width: 50%;}#sk-container-id-2 div.sk-parallel-item:only-child::after {width: 0;}#sk-container-id-2 div.sk-dashed-wrapped {border: 1px dashed gray;margin: 0 0.4em 0.5em 0.4em;box-sizing: border-box;padding-bottom: 0.4em;background-color: white;}#sk-container-id-2 div.sk-label label {font-family: monospace;font-weight: bold;display: inline-block;line-height: 1.2em;}#sk-container-id-2 div.sk-label-container {text-align: center;}#sk-container-id-2 div.sk-container {/* jupyter's `normalize.less` sets `[hidden] { display: none; }` but bootstrap.min.css set `[hidden] { display: none !important; }` so we also need the `!important` here to be able to override the default hidden behavior on the sphinx rendered scikit-learn.org. See: https://github.com/scikit-learn/scikit-learn/issues/21755 */display: inline-block !important;position: relative;}#sk-container-id-2 div.sk-text-repr-fallback {display: none;}</style><div id=\"sk-container-id-2\" class=\"sk-top-container\"><div class=\"sk-text-repr-fallback\"><pre>KNeighborsClassifier(n_neighbors=11)</pre><b>In a Jupyter environment, please rerun this cell to show the HTML representation or trust the notebook. <br />On GitHub, the HTML representation is unable to render, please try loading this page with nbviewer.org.</b></div><div class=\"sk-container\" hidden><div class=\"sk-item\"><div class=\"sk-estimator sk-toggleable\"><input class=\"sk-toggleable__control sk-hidden--visually\" id=\"sk-estimator-id-4\" type=\"checkbox\" checked><label for=\"sk-estimator-id-4\" class=\"sk-toggleable__label sk-toggleable__label-arrow\">KNeighborsClassifier</label><div class=\"sk-toggleable__content\"><pre>KNeighborsClassifier(n_neighbors=11)</pre></div></div></div></div></div>"
            ]
          },
          "metadata": {},
          "execution_count": 12
        }
      ]
    },
    {
      "cell_type": "code",
      "source": [
        "# Make predictions on the test set\n",
        "y_pred = knn_model.predict(x_test)\n",
        "\n",
        "# Calculate accuracy\n",
        "accuracy = accuracy_score(y_test, y_pred)\n",
        "print(f'Accuracy on the Test Set: {accuracy:.2%}')\n",
        "\n",
        "# Print the classification report and confusion matrix for the test set\n",
        "print('\\nClassification Report for Test Set:\\n')\n",
        "print(classification_report(y_test, y_pred))"
      ],
      "metadata": {
        "colab": {
          "base_uri": "https://localhost:8080/"
        },
        "id": "omtpNkOp2aLP",
        "outputId": "35fddd7f-476f-4346-b66d-aa7a7ee66f9d"
      },
      "execution_count": 13,
      "outputs": [
        {
          "output_type": "stream",
          "name": "stdout",
          "text": [
            "Accuracy on the Test Set: 68.24%\n",
            "\n",
            "Classification Report for Test Set:\n",
            "\n",
            "                    precision    recall  f1-score   support\n",
            "\n",
            "2 in 1 Convertible       0.31      0.30      0.30        27\n",
            "            Gaming       0.81      0.67      0.73        39\n",
            "           Netbook       0.00      0.00      0.00         4\n",
            "          Notebook       0.75      0.85      0.79       149\n",
            "         Ultrabook       0.50      0.42      0.46        33\n",
            "       Workstation       0.00      0.00      0.00         3\n",
            "\n",
            "          accuracy                           0.68       255\n",
            "         macro avg       0.40      0.37      0.38       255\n",
            "      weighted avg       0.66      0.68      0.67       255\n",
            "\n"
          ]
        },
        {
          "output_type": "stream",
          "name": "stderr",
          "text": [
            "/usr/local/lib/python3.10/dist-packages/sklearn/metrics/_classification.py:1344: UndefinedMetricWarning: Precision and F-score are ill-defined and being set to 0.0 in labels with no predicted samples. Use `zero_division` parameter to control this behavior.\n",
            "  _warn_prf(average, modifier, msg_start, len(result))\n",
            "/usr/local/lib/python3.10/dist-packages/sklearn/metrics/_classification.py:1344: UndefinedMetricWarning: Precision and F-score are ill-defined and being set to 0.0 in labels with no predicted samples. Use `zero_division` parameter to control this behavior.\n",
            "  _warn_prf(average, modifier, msg_start, len(result))\n",
            "/usr/local/lib/python3.10/dist-packages/sklearn/metrics/_classification.py:1344: UndefinedMetricWarning: Precision and F-score are ill-defined and being set to 0.0 in labels with no predicted samples. Use `zero_division` parameter to control this behavior.\n",
            "  _warn_prf(average, modifier, msg_start, len(result))\n"
          ]
        }
      ]
    },
    {
      "cell_type": "code",
      "source": [
        "labels = ['2 in 1 Convertible', 'Gaming', 'Netbook', 'Notebook', 'Ultrabook', 'Workstation']\n",
        "# Display heatmap for the average confusion matrix\n",
        "conf_matrix = confusion_matrix(y_test, y_pred)\n",
        "print('Confusion Matrix for Test Set:\\n')\n",
        "print(conf_matrix)\n",
        "\n",
        "# Display heatmap for the confusion matrix with actual and predicted values\n",
        "plt.figure(figsize=(10, 8))\n",
        "sns.heatmap(conf_matrix, annot=True, fmt='g', cmap='Blues', xticklabels=labels, yticklabels=labels)\n",
        "plt.xlabel('Predicted')\n",
        "plt.ylabel('Actual')\n",
        "plt.title('Confusion Matrix (Test Set)')\n",
        "plt.show()"
      ],
      "metadata": {
        "colab": {
          "base_uri": "https://localhost:8080/",
          "height": 857
        },
        "id": "WLzANWGb2uug",
        "outputId": "7dede7a2-84bc-438d-ae6c-3d5151eb9683"
      },
      "execution_count": 14,
      "outputs": [
        {
          "output_type": "stream",
          "name": "stdout",
          "text": [
            "Confusion Matrix for Test Set:\n",
            "\n",
            "[[  8   1   0  16   2   0]\n",
            " [  3  26   0   8   2   0]\n",
            " [  0   0   0   4   0   0]\n",
            " [  8   5   1 126   9   0]\n",
            " [  6   0   0  13  14   0]\n",
            " [  1   0   0   1   1   0]]\n"
          ]
        },
        {
          "output_type": "display_data",
          "data": {
            "text/plain": [
              "<Figure size 1000x800 with 2 Axes>"
            ],
            "image/png": "[encoded data removed]"
          },
          "metadata": {}
        }
      ]
    },
    {
      "cell_type": "code",
      "source": [
        "import joblib\n",
        "\n",
        "# Save the model to a file\n",
        "joblib.dump(knn_model, 'knn_model.joblib')"
      ],
      "metadata": {
        "colab": {
          "base_uri": "https://localhost:8080/"
        },
        "id": "d1rIINe-BtSd",
        "outputId": "d721a03f-dd20-4d53-d81b-f8dbbe40e697"
      },
      "execution_count": 15,
      "outputs": [
        {
          "output_type": "execute_result",
          "data": {
            "text/plain": [
              "['knn_model.joblib']"
            ]
          },
          "metadata": {},
          "execution_count": 15
        }
      ]
    },
    {
      "cell_type": "code",
      "source": [
        "# Load the saved model\n",
        "loaded_model = joblib.load('knn_model.joblib')\n",
        "\n",
        "# Get user input\n",
        "user_input = [\n",
        "    float(input('Enter RAM size in GB: ')),\n",
        "    float(input('Enter HDD size in GB: ')),\n",
        "    float(input('Enter SSD size in GB: ')),\n",
        "    input('Enter CPU brand: '),\n",
        "    input('Enter Company Name: '),\n",
        "    input('Enter Os type: ')\n",
        "]\n",
        "\n",
        "# Cari nilai numerik untuk merepresentasikan merek CPU dari input pengguna\n",
        "cpu_label = df.loc[df['Cpu_brand'] == user_input[3], 'Cpu'].values[0]\n",
        "user_input[3] = cpu_label\n",
        "\n",
        "# Cari nilai numerik untuk merepresentasikan perusahaan (Company) dari input pengguna\n",
        "company_label = df.loc[df['Company'] == user_input[4], 'Company_label'].values[0]\n",
        "user_input[4] = company_label\n",
        "\n",
        "# Cari nilai numerik untuk merepresentasikan sistem operasi (Os) dari input pengguna\n",
        "os_label = df.loc[df['Os'] == user_input[5], 'Os_label'].values[0]\n",
        "user_input[5] = os_label\n",
        "\n",
        "# Make a prediction using the loaded model\n",
        "user_input = [user_input]  # Convert to a 2D array\n",
        "predicted_label = loaded_model.predict(user_input)\n",
        "print(predicted_label)\n",
        "\n",
        "print(f'The predicted laptop type is: {predicted_label[0]}')"
      ],
      "metadata": {
        "colab": {
          "base_uri": "https://localhost:8080/"
        },
        "id": "8hU4q0onCCwC",
        "outputId": "e09fb671-ad14-458e-89c9-6551f5a86287"
      },
      "execution_count": 17,
      "outputs": [
        {
          "output_type": "stream",
          "name": "stdout",
          "text": [
            "Enter RAM size in GB: 6\n",
            "Enter HDD size in GB: 0\n",
            "Enter SSD size in GB: 500\n",
            "Enter CPU brand: Intel Core i5\n",
            "Enter Company Name: Apple\n",
            "Enter Os type: Mac\n",
            "['Ultrabook']\n",
            "The predicted laptop type is: Ultrabook\n"
          ]
        },
        {
          "output_type": "stream",
          "name": "stderr",
          "text": [
            "/usr/local/lib/python3.10/dist-packages/sklearn/base.py:439: UserWarning: X does not have valid feature names, but KNeighborsClassifier was fitted with feature names\n",
            "  warnings.warn(\n"
          ]
        }
      ]
    }
  ]
}